{
  "nbformat": 4,
  "nbformat_minor": 0,
  "metadata": {
    "colab": {
      "name": "Entrega 5 Indice de Moran pvalor",
      "provenance": [],
      "authorship_tag": "ABX9TyMMYHh5KKZMHnxNnhypOwIf",
      "include_colab_link": true
    },
    "kernelspec": {
      "name": "python3",
      "display_name": "Python 3"
    },
    "language_info": {
      "name": "python"
    }
  },
  "cells": [
    {
      "cell_type": "markdown",
      "metadata": {
        "id": "view-in-github",
        "colab_type": "text"
      },
      "source": [
        "<a href=\"https://colab.research.google.com/github/SantiagoAlayon/Computacion-Estadistica---Santiago-Alayon-Alayon/blob/main/Entrega_5_Indice_de_Moran_pvalor.ipynb\" target=\"_parent\"><img src=\"https://colab.research.google.com/assets/colab-badge.svg\" alt=\"Open In Colab\"/></a>"
      ]
    },
    {
      "cell_type": "markdown",
      "source": [
        "$$\\begin{array}{|c|c|} \\hline\n",
        "VARIABLE & INDICE DE MORAN (pvalor) \\\\ \\hline\n",
        "MO & 0 \\\\ \\hline\n",
        "Ca &  0\\\\\\hline\n",
        "Mg & 0 \\\\ \\hline\n",
        "K & 0 \\\\ \\hline\n",
        "Na & 0 \\\\ \\hline\n",
        "CICE & 0 \\\\ \\hline\n",
        "CE & 4.081979e-11 \\\\ \\hline\n",
        "Fe & 1.380351e-09 \\\\ \\hline\n",
        "Cu & 0 \\\\ \\hline\n",
        "Zn & 6.661338e-16 \\\\ \\hline\n",
        "cos & 0 \\\\ \\hline\n",
        "\\end{array} $$"
      ],
      "metadata": {
        "id": "RmER8QtZT7xt"
      }
    }
  ]
}